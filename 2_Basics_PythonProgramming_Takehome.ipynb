{
  "nbformat": 4,
  "nbformat_minor": 0,
  "metadata": {
    "colab": {
      "provenance": [],
      "toc_visible": true,
      "include_colab_link": true
    },
    "kernelspec": {
      "name": "python3",
      "display_name": "Python 3"
    },
    "language_info": {
      "name": "python"
    }
  },
  "cells": [
    {
      "cell_type": "markdown",
      "metadata": {
        "id": "view-in-github",
        "colab_type": "text"
      },
      "source": [
        "<a href=\"https://colab.research.google.com/github/MSS-Shalavritha/FLCMLBootCampShalavrithaMamunooru/blob/main/2_Basics_PythonProgramming_Takehome.ipynb\" target=\"_parent\"><img src=\"https://colab.research.google.com/assets/colab-badge.svg\" alt=\"Open In Colab\"/></a>"
      ]
    },
    {
      "cell_type": "markdown",
      "source": [
        "# Personal Finance 101 with Python\n",
        "\n",
        "- Investing is crucial for wealth growth, financial security, and achieving long-term financial goals.\n",
        "- One of the biggest reasons to invest is the power of compounding, which allows your money to grow exponentially over time."
      ],
      "metadata": {
        "id": "BGhlVvcyZGWp"
      }
    },
    {
      "cell_type": "markdown",
      "source": [
        "### Understanding the Compounding Effect\n",
        "\n",
        "$$ A = P * \\left( 1 + \\frac{r}{n} \\right) ^{n*t}$$\n",
        "\n",
        "Where,\n",
        "\n",
        "- A  = Final amount\n",
        "- P  = Principal (initial investment)\n",
        "- r  = Annual interest rate (as a decimal)\n",
        "- n  = Times interest is compounded per year\n",
        "- t  = Time in years\n"
      ],
      "metadata": {
        "id": "zyYa0RR2L_8n"
      }
    },
    {
      "cell_type": "code",
      "execution_count": 1,
      "metadata": {
        "id": "XrEjSeR5UQVl",
        "outputId": "64a0c6db-5dbf-46ea-c9f1-98a16a2043c9",
        "colab": {
          "base_uri": "https://localhost:8080/"
        }
      },
      "outputs": [
        {
          "output_type": "stream",
          "name": "stdout",
          "text": [
            "Compound Interest Calculator Results:\n",
            "Principal Amount: $1000.00\n",
            "Annual Interest Rate: 6.00%\n",
            "Compounding Frequency: 1 times per year\n",
            "Number of Years: 10\n",
            "Total Amount: $1790.85\n",
            "Total Interest Earned: $790.85\n"
          ]
        }
      ],
      "source": [
        "#@title Compound Interest Calculator\n",
        "\n",
        "#@markdown Enter the principal amount (P in $):\n",
        "principal = 1000 #@param {type:\"number\"}\n",
        "\n",
        "#@markdown Enter the annual interest rate as a percentage (r):\n",
        "interest_rate = 6 #@param {type:\"number\"}\n",
        "\n",
        "#@markdown Enter the number of times interest is compounded per year (n):\n",
        "compounding_frequency = 1 #@param {type:\"number\"}\n",
        "\n",
        "#@markdown Enter the number of years (t):\n",
        "years = 10 #@param {type:\"number\"}\n",
        "\n",
        "\n",
        "# Calculate compound interest\n",
        "# 1. Convert percentage into decimal\n",
        "interest_rate_decimal = interest_rate/100\n",
        "\n",
        "\n",
        "# 2. Calculate the final amount (A)\n",
        "final_amount = principal * (1 + interest_rate_decimal / compounding_frequency) ** (compounding_frequency * years)\n",
        "\n",
        "\n",
        "\n",
        "# 3. Calculate the total interest earned\n",
        "total_interest = final_amount - principal\n",
        "\n",
        "\n",
        "# Display the results\n",
        "print(\"Compound Interest Calculator Results:\")\n",
        "print(f\"Principal Amount: ${principal:.2f}\")\n",
        "print(f\"Annual Interest Rate: {interest_rate:.2f}%\")\n",
        "print(f\"Compounding Frequency: {compounding_frequency} times per year\")\n",
        "print(f\"Number of Years: {years}\")\n",
        "print(f\"Total Amount: ${final_amount:.2f}\")\n",
        "print(f\"Total Interest Earned: ${total_interest:.2f}\")"
      ]
    },
    {
      "cell_type": "markdown",
      "source": [
        "### Effect of starting principal (P)\n",
        "\n",
        "Write a function to calculate total amount and total interest earned for starting principal (P in $): 10, 50, 100, 500 and 1000. Assume r=5%, n=1 and t=5.\n",
        "\n",
        "Hint: Iterate over a list data structure containing 'P' values using a compound interest calculator function"
      ],
      "metadata": {
        "id": "ScJlnZfEbTUH"
      }
    },
    {
      "cell_type": "code",
      "source": [
        "principal_values = [10, 50, 100, 500, 1000]\n",
        "rate = 5\n",
        "compounding_frequency = 1\n",
        "years = 5\n",
        "\n",
        "def compound_interest(principal, rate, compounding_frequency, years):\n",
        "    rate_decimal = rate / 100\n",
        "    final_amount = principal * (1 + rate_decimal / compounding_frequency) ** (compounding_frequency * years)\n",
        "    total_interest = final_amount - principal\n",
        "    return final_amount, total_interest\n",
        "\n",
        "for principal in principal_values:\n",
        "    total_amount, total_interest = compound_interest(principal, rate, compounding_frequency, years)\n",
        "    print(f\"Principal: ${principal}, Total Amount: ${total_amount:.2f}, Total Interest: ${total_interest:.2f}\")"
      ],
      "metadata": {
        "id": "MICZ2cnDbrZg",
        "outputId": "1a003710-850e-490e-9779-4cb8dc481ca3",
        "colab": {
          "base_uri": "https://localhost:8080/"
        }
      },
      "execution_count": 4,
      "outputs": [
        {
          "output_type": "stream",
          "name": "stdout",
          "text": [
            "Effect of Starting Principal on Compound Interest:\n",
            "Principal: $10, Total Amount: $12.76, Total Interest: $2.76\n",
            "Principal: $50, Total Amount: $63.81, Total Interest: $13.81\n",
            "Principal: $100, Total Amount: $127.63, Total Interest: $27.63\n",
            "Principal: $500, Total Amount: $638.14, Total Interest: $138.14\n",
            "Principal: $1000, Total Amount: $1276.28, Total Interest: $276.28\n"
          ]
        }
      ]
    },
    {
      "cell_type": "markdown",
      "source": [
        "#### Write a simple conclusion on what the effect of starting principal (more 'P') is on a compounding interest investment?"
      ],
      "metadata": {
        "id": "BIcD3dEecSpq"
      }
    },
    {
      "cell_type": "markdown",
      "source": [
        "As per the above results, both the total amount and the interest earned increase proportionally which means that investing in larger amounts gives us higher total amount and higher interest in long term."
      ],
      "metadata": {
        "id": "GIOWvpFESLJ4"
      }
    },
    {
      "cell_type": "markdown",
      "source": [
        "### Effect of starting early (more years of investing = more 't')\n",
        "\n",
        "Reuse the compounding interest calculator function above and determine the effect of more years of investing 't': 2yrs, 5yrs, 10yrs, 20yrs, 30yrs. Assume P=\\$100, r=5% and n=1."
      ],
      "metadata": {
        "id": "3Zi_t5Ftcsw1"
      }
    },
    {
      "cell_type": "code",
      "source": [
        "years_values = [2, 5, 10, 20, 30]\n",
        "principal = 100\n",
        "rate = 5\n",
        "compounding_frequency = 1\n",
        "\n",
        "for years in years_values:\n",
        "    total_amount, total_interest = compound_interest(principal, rate, compounding_frequency, years)\n",
        "    print(f\"Years: {years}, Total Amount: ${total_amount:.2f}, Total Interest: ${total_interest:.2f}\")"
      ],
      "metadata": {
        "id": "a5jHCG7NdcBf",
        "outputId": "d3b9b898-f91e-46ce-d7dd-38d9ac58bac2",
        "colab": {
          "base_uri": "https://localhost:8080/"
        }
      },
      "execution_count": 5,
      "outputs": [
        {
          "output_type": "stream",
          "name": "stdout",
          "text": [
            "Years: 2, Total Amount: $110.25, Total Interest: $10.25\n",
            "Years: 5, Total Amount: $127.63, Total Interest: $27.63\n",
            "Years: 10, Total Amount: $162.89, Total Interest: $62.89\n",
            "Years: 20, Total Amount: $265.33, Total Interest: $165.33\n",
            "Years: 30, Total Amount: $432.19, Total Interest: $332.19\n"
          ]
        }
      ]
    },
    {
      "cell_type": "markdown",
      "source": [
        "#### Write a simple conclusion on what the effect of starting early (more 't') is on a compounding interest investment?\n"
      ],
      "metadata": {
        "id": "dkDFHmiNdosi"
      }
    },
    {
      "cell_type": "markdown",
      "source": [
        "As per the above results, the longer we invest our money, the more time it has to grow through the power of compounding. Therefore, maybe starting our compounding investment at an early age, we get better results in long term."
      ],
      "metadata": {
        "id": "OoQpZcyfTDBo"
      }
    },
    {
      "cell_type": "markdown",
      "source": [
        "### Effect of better rate of return (more 'r')\n",
        "\n",
        "Reuse the compounding interest calculator function above and determine the effect of better rate of return 'r': 2%, 5%, 8% and 10%. Assume P=$100, n=1 and t=5."
      ],
      "metadata": {
        "id": "b4HolM8adwzl"
      }
    },
    {
      "cell_type": "code",
      "source": [
        "# Calculate the effect of better rate of return (more 'r')\n",
        "rate_values = [2, 5, 8, 10]\n",
        "principal = 100\n",
        "compounding_frequency = 1\n",
        "years = 5\n",
        "for rate in rate_values:\n",
        "    total_amount, total_interest = compound_interest(principal, rate, compounding_frequency, years)\n",
        "    print(f\"Rate: {rate}%, Total Amount: ${total_amount:.2f}, Total Interest: ${total_interest:.2f}\")\n",
        "\n"
      ],
      "metadata": {
        "id": "pbcjQ24Kew56",
        "outputId": "71065b76-8b08-489b-d49a-4b4e7dd06b53",
        "colab": {
          "base_uri": "https://localhost:8080/"
        }
      },
      "execution_count": 6,
      "outputs": [
        {
          "output_type": "stream",
          "name": "stdout",
          "text": [
            "Rate: 2%, Total Amount: $110.41, Total Interest: $10.41\n",
            "Rate: 5%, Total Amount: $127.63, Total Interest: $27.63\n",
            "Rate: 8%, Total Amount: $146.93, Total Interest: $46.93\n",
            "Rate: 10%, Total Amount: $161.05, Total Interest: $61.05\n"
          ]
        }
      ]
    },
    {
      "cell_type": "markdown",
      "source": [
        "#### Write a simple conclusion on what the effect of better rate of return (more 'r') is on a compounding interest investment?"
      ],
      "metadata": {
        "id": "q5ihxgcKez4g"
      }
    },
    {
      "cell_type": "markdown",
      "source": [
        "As per the above results, we can see a higher rate of return leads to significantly greater total interest earned. It highlights the importance of seeking better investment returns to maximize wealth growth."
      ],
      "metadata": {
        "id": "almocAnsT7w1"
      }
    },
    {
      "cell_type": "markdown",
      "source": [
        "### What happens to a compounding interest investment if you also do recurring investment (adding fixed \\$ amount in a fixed time frequency into the principal 'P')"
      ],
      "metadata": {
        "id": "8RPUEsNYe7nw"
      }
    },
    {
      "cell_type": "code",
      "source": [
        "principal = 100\n",
        "rate = 5\n",
        "compounding_frequency = 12\n",
        "years = 5\n",
        "recurring_deposit = 50\n",
        "recurring_frequency = 12\n",
        "\n",
        "def compound_interest_with_recurring(principal, rate, compounding_frequency, years, recurring_deposit, recurring_frequency):\n",
        "    rate_decimal = rate / 100\n",
        "    final_amount = principal * (1 + rate_decimal / compounding_frequency) ** (compounding_frequency * years)\n",
        "    periods = years * recurring_frequency\n",
        "    rate_per_period = rate_decimal / recurring_frequency\n",
        "\n",
        "    if rate_per_period > 0:\n",
        "        future_value_rd = recurring_deposit * (((1 + rate_per_period) ** periods - 1) / rate_per_period) * (1 + rate_per_period)\n",
        "    else:\n",
        "        future_value_rd = recurring_deposit * periods\n",
        "\n",
        "    final_amount += future_value_rd\n",
        "    total_interest = final_amount - (principal + recurring_deposit * periods)\n",
        "    return final_amount, total_interest\n",
        "\n",
        "total_amount, total_interest = compound_interest_with_recurring(principal, rate, compounding_frequency, years, recurring_deposit, recurring_frequency)\n",
        "\n",
        "print(f\"Total Amount: ${total_amount:.2f}\")\n",
        "print(f\"Total Interest Earned: ${total_interest:.2f}\")\n",
        "\n"
      ],
      "metadata": {
        "id": "PXVG53KdffHD",
        "outputId": "8c55d931-13b3-4ca3-8fe5-37c515860dfe",
        "colab": {
          "base_uri": "https://localhost:8080/"
        }
      },
      "execution_count": 7,
      "outputs": [
        {
          "output_type": "stream",
          "name": "stdout",
          "text": [
            "Total Amount: $3542.81\n",
            "Total Interest Earned: $442.81\n"
          ]
        }
      ]
    },
    {
      "cell_type": "markdown",
      "source": [
        "#### What is the effect of disciplined investing using recurring deposits?\n",
        "\n",
        "Use the new compounding interest calculator with recurring investment to calculate the effect of disciplined investing. Assume P=$100, r=5%, n=12 (monthly compounding), t=5.\n",
        "\n",
        "Calculate for different 'rd' (in $): 0, 1, 5, 10, 50, 100"
      ],
      "metadata": {
        "id": "WoKmXBp3gaeN"
      }
    },
    {
      "cell_type": "code",
      "source": [
        "# Write code to calculate the final_amount (A) for recurring deposits into monthly compounding investment\n",
        "\n",
        "principal = 100\n",
        "rate = 5\n",
        "compounding_frequency = 12\n",
        "years = 5\n",
        "recurring_frequency = 12\n",
        "recurring_deposits = [0, 1, 5, 10, 50, 100]\n",
        "\n",
        "def compound_interest_with_recurring(principal, rate, compounding_frequency, years, recurring_deposit, recurring_frequency):\n",
        "    rate_decimal = rate / 100\n",
        "    final_amount = principal * (1 + rate_decimal / compounding_frequency) ** (compounding_frequency * years)\n",
        "    periods = years * recurring_frequency\n",
        "    rate_per_period = rate_decimal / recurring_frequency\n",
        "\n",
        "    if rate_per_period > 0:\n",
        "        future_value_rd = recurring_deposit * (((1 + rate_per_period) ** periods - 1) / rate_per_period) * (1 + rate_per_period)\n",
        "    else:\n",
        "        future_value_rd = recurring_deposit * periods\n",
        "\n",
        "    total_final_amount = final_amount + future_value_rd\n",
        "    total_deposits = principal + recurring_deposit * periods\n",
        "    total_interest = total_final_amount - total_deposits\n",
        "    return total_final_amount, total_interest\n",
        "\n",
        "for rd in recurring_deposits:\n",
        "    total_amount, total_interest = compound_interest_with_recurring(principal, rate, compounding_frequency, years, rd, recurring_frequency)\n",
        "    print(f\"Recurring Deposit: ${rd:3} Total Amount: ${total_amount:8.2f}, Total Interest Earned: ${total_interest:6.2f}\")\n"
      ],
      "metadata": {
        "id": "gz8NLxgzhHlU",
        "outputId": "714a6e96-32e6-4655-c777-6ee167b2f69b",
        "colab": {
          "base_uri": "https://localhost:8080/"
        }
      },
      "execution_count": 10,
      "outputs": [
        {
          "output_type": "stream",
          "name": "stdout",
          "text": [
            "Recurring Deposit: $  0 Total Amount: $  128.34, Total Interest Earned: $ 28.34\n",
            "Recurring Deposit: $  1 Total Amount: $  196.63, Total Interest Earned: $ 36.63\n",
            "Recurring Deposit: $  5 Total Amount: $  469.78, Total Interest Earned: $ 69.78\n",
            "Recurring Deposit: $ 10 Total Amount: $  811.23, Total Interest Earned: $111.23\n",
            "Recurring Deposit: $ 50 Total Amount: $ 3542.81, Total Interest Earned: $442.81\n",
            "Recurring Deposit: $100 Total Amount: $ 6957.28, Total Interest Earned: $857.28\n"
          ]
        }
      ]
    },
    {
      "cell_type": "markdown",
      "source": [
        "#### Write a simple conclusion on what is the effect of disciplined investing using recurring deposits?"
      ],
      "metadata": {
        "id": "HzaDkeEmhRTd"
      }
    },
    {
      "cell_type": "markdown",
      "source": [
        "The above results show that disciplined investing with recurring deposits enhances the growth. By regularly  adding small amounts to our investment, we benefit from both the power of compounding on the initial sum and on each new deposit."
      ],
      "metadata": {
        "id": "ez0RIjxHaB_P"
      }
    },
    {
      "cell_type": "markdown",
      "source": [
        "### What problems/decisions that you face in life can be solved using basic Python programming? Share atleast two ideas.\n",
        "\n",
        "\n"
      ],
      "metadata": {
        "id": "V1SICqGdi3bu"
      }
    },
    {
      "cell_type": "markdown",
      "source": [
        "-> I haven't used Python in real life, but rather below are some useful scenarios in my professional experience:\n",
        "\n",
        "1. I used python for one of my research project for analysing vast amount of data and thousands of excel sheets, it made things easier for me because of its easy syntax and easy to use.\n",
        "\n",
        "2.  During my professional experience, I felt using Selenium with Python was way more easier than Selenium using Java or any other language."
      ],
      "metadata": {
        "id": "v74gh-SPacf3"
      }
    },
    {
      "cell_type": "markdown",
      "source": [
        "# Final Retrospection:\n",
        "### What challenges did you face while programming with Python?\n",
        "\n",
        "Nothing major with respect to syntax as I have been using Python for few years now, but had to lookup online regarding compound interest and recurring deposits.\n",
        "\n",
        "### How did you overcome those challenges?\n",
        "\n",
        "Used Google Search and ChatGPT for getting answers regarding compound interest and recurring deposits.\n",
        "\n",
        "### Mention other resources you used to solve this take-home assignment\n",
        "\n",
        "Google Search, StackOverFlow, ChatGPT\n",
        "\n",
        "### Did you use any tools (like ChatGPT) to solve the issues? What are the challenges and opportunities?\n",
        "\n",
        "Yes, used ChatGPT, no challenges faced, but I would say it's better to use ChatGPT rather than typical google search as it gives us precise results faster because we don't have to visit few pages on a typical google search.\n",
        "\n",
        "### After this exercise, are you feeling excited to learn more?\n",
        "\n",
        "Yes, mainly excited to start ML/Data Science with Python.\n",
        "\n",
        "\n",
        "NOTE: Save the file with your code and text answers before committing it to your new GitHub public repository. Send a link to your file on Github to the TA."
      ],
      "metadata": {
        "id": "gnnYEjdqhh7f"
      }
    }
  ]
}